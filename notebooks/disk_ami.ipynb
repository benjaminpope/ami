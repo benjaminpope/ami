{
 "cells": [
  {
   "cell_type": "code",
   "execution_count": 1,
   "metadata": {},
   "outputs": [],
   "source": [
    "import numpy as onp\n",
    "import matplotlib.pyplot as plt\n",
    "\n",
    "import jax.numpy as np \n",
    "from jax import grad, jit, vmap\n",
    "import jax\n",
    "\n",
    "from astropy.table import Table\n",
    "\n",
    "from jax.config import config\n",
    "config.update(\"jax_enable_x64\", True)\n",
    "\n",
    "import nrm_analysis as implaneia\n",
    "from nrm_analysis.misctools import mask_definitions\n",
    "\n",
    "import warnings\n",
    "warnings.filterwarnings(\"ignore\")\n",
    "\n",
    "%matplotlib inline"
   ]
  },
  {
   "cell_type": "code",
   "execution_count": 2,
   "metadata": {},
   "outputs": [],
   "source": [
    "f2f,mask = mask_definitions.jwst_g7s6c()\n"
   ]
  },
  {
   "cell_type": "code",
   "execution_count": 3,
   "metadata": {},
   "outputs": [],
   "source": [
    "def makebaselines(mask):\n",
    "    \"\"\"\n",
    "    ctrs_eqt (nh,2) in m\n",
    "    returns np arrays of eg 21 baselinenames ('0_1',...), eg (21,2) baselinevectors (2-floats)\n",
    "    in the same numbering as implaneia\n",
    "    \"\"\"\n",
    "    nholes = mask.shape[0]\n",
    "    blist = []\n",
    "    for i in range(nholes):\n",
    "        for j in range(nholes):\n",
    "            if i < j:\n",
    "                blist.append((i, j))\n",
    "    barray = onp.array(blist).astype(onp.int)\n",
    "    # blname = []\n",
    "    bllist = []\n",
    "    for basepair in blist:\n",
    "        # blname.append(\"{0:d}_{1:d}\".format(basepair[0],basepair[1]))\n",
    "        baseline = mask[basepair[0]] - mask[basepair[1]]\n",
    "        bllist.append(baseline)\n",
    "    return barray, np.array(bllist)\n",
    "\n",
    "def maketriples_all(mask,verbose=False):\n",
    "    \"\"\" returns int array of triple hole indices (0-based), \n",
    "        and float array of two uv vectors in all triangles\n",
    "    \"\"\"\n",
    "    nholes = mask.shape[0]\n",
    "    tlist = []\n",
    "    for i in range(nholes):\n",
    "        for j in range(nholes):\n",
    "            for k in range(nholes):\n",
    "                if i < j and j < k:\n",
    "                    tlist.append((i, j, k))\n",
    "    tarray = onp.array(tlist).astype(onp.int)\n",
    "    if verbose:\n",
    "        print(\"tarray\", tarray.shape, \"\\n\", tarray)\n",
    "\n",
    "    tname = []\n",
    "    uvlist = []\n",
    "    # foreach row of 3 elts...\n",
    "    for triple in tarray:\n",
    "        tname.append(\"{0:d}_{1:d}_{2:d}\".format(\n",
    "            triple[0], triple[1], triple[2]))\n",
    "        if verbose:\n",
    "            print('triple:', triple, tname[-1])\n",
    "        uvlist.append((mask[triple[0]] - mask[triple[1]],\n",
    "                       mask[triple[1]] - mask[triple[2]]))\n",
    "    # print(len(uvlist), \"uvlist\", uvlist)\n",
    "    if verbose:\n",
    "        print(tarray.shape, onp.array(uvlist).shape)\n",
    "    return tarray, np.array(uvlist)"
   ]
  },
  {
   "cell_type": "code",
   "execution_count": 4,
   "metadata": {},
   "outputs": [],
   "source": [
    "barray, bls = makebaselines(mask)\n",
    "triples, uvs = maketriples_all(mask)"
   ]
  },
  {
   "cell_type": "code",
   "execution_count": 5,
   "metadata": {},
   "outputs": [
    {
     "data": {
      "text/plain": [
       "Text(0.5, 1.0, 'Baselines')"
      ]
     },
     "execution_count": 5,
     "metadata": {},
     "output_type": "execute_result"
    },
    {
     "data": {
      "image/png": "[encoded data removed]",
      "text/plain": [
       "<Figure size 648x270 with 2 Axes>"
      ]
     },
     "metadata": {
      "needs_background": "light"
     },
     "output_type": "display_data"
    }
   ],
   "source": [
    "fig, (ax1, ax2) = plt.subplots(1,2,figsize=(9.0,2.5*1.5))\n",
    "\n",
    "ax1.scatter(mask[:,0],mask[:,1])\n",
    "ax1.set_xlabel('m')\n",
    "ax1.set_ylabel('m')\n",
    "ax1.set_title('Mask')\n",
    "\n",
    "ax2.scatter(bls[:,0],bls[:,1])\n",
    "ax2.set_xlabel('m')\n",
    "ax2.set_ylabel('m')\n",
    "ax2.set_title('Baselines')\n"
   ]
  },
  {
   "cell_type": "code",
   "execution_count": 6,
   "metadata": {},
   "outputs": [],
   "source": [
    "mas2rad = np.pi / 180.0 / 3600.0/ 1000.0\n",
    "\n",
    "def make_ellipse(semi_axis,ecc,thick,sz=80,pscale=66.):\n",
    "    \n",
    "    semi_axis, thick = semi_axis/pscale, thick/pscale\n",
    "    \n",
    "    b = semi_axis*onp.sqrt(1-ecc**2.)\n",
    "    \n",
    "    bmin = (semi_axis-thick)*onp.sqrt(1-ecc**2)\n",
    "    \n",
    "    x = onp.arange(sz)-sz/2.\n",
    "    \n",
    "    xx, yy = onp.meshgrid(x,x)\n",
    "    \n",
    "    outer = (onp.sqrt((xx/semi_axis)**2 + (yy/b)**2)< 1)\n",
    "    \n",
    "    inner = (onp.sqrt((xx/(semi_axis-thick))**2 + (yy/bmin)**2) >1)\n",
    "       \n",
    "    plain = onp.ones((sz,sz))\n",
    "    \n",
    "    plain[~(outer*inner)] = 0\n",
    "    \n",
    "    return plain/plain.sum()\n",
    "\n",
    "def rebin(array_in,factor):\n",
    "    shape = array_in.shape\n",
    "    reshaped = array_in.reshape(shape[0]//factor,factor, shape[1]//factor, factor)\n",
    "    return reshaped.mean(-1).mean(1)\n",
    "\n",
    "def j1(x):\n",
    "    return jax.scipy.special.bessel_jn(x,v=1,n_iter=50)[1]\n",
    "\n",
    "def j0(x):\n",
    "    return jax.scipy.special.bessel_jn(x,v=0,n_iter=50)[0]\n",
    "\n",
    "@jit\n",
    "@vmap\n",
    "def jinc(x):\n",
    "    dummy = 2*(j1(x)/x)\n",
    "    return jax.lax.select(~np.isfinite(dummy), 1., dummy)\n",
    "\n",
    "def vis_gauss(d,u,v):\n",
    "    d = mas2rad*d\n",
    "    return np.exp(-(np.pi*d*np.sqrt(u**2+v**2))**2/4./np.log(2))\n",
    "\n",
    "def vis_ud(d,u,v):\n",
    "    r = np.sqrt(u**2+v**2)\n",
    "    diam = d*mas2rad\n",
    "    t = jinc(np.pi*diam*r)\n",
    "    return t\n",
    "\n",
    "def vis_ring(d,u,v):\n",
    "    r = np.sqrt(u**2+v**2)\n",
    "    diam = d*mas2rad\n",
    "    t = j0(np.pi*diam*r)\n",
    "    return t\n",
    "    \n",
    "def vis_ellipse_disk(semi_axis,ecc,theta,u,v):\n",
    "    \n",
    "    semi_axis = semi_axis\n",
    "    thetad = np.pi*theta/180.\n",
    "    u1, v1 = u*np.cos(thetad)+v*np.sin(thetad), -u*np.sin(thetad)+v*np.cos(thetad)\n",
    "    u1, v1 = u1, v1*np.sqrt(1-ecc**2.)\n",
    "    \n",
    "    return vis_ud(0.5*semi_axis,u1,v1)\n",
    "\n",
    "def vis_ellipse_thin(semi_axis,ecc,theta,thick,u,v):\n",
    "    \n",
    "    ad, bd = semi_axis, semi_axis*np.sqrt(1.-ecc**2.)\n",
    "    a2, b2 = semi_axis-thick, (semi_axis-thick)*np.sqrt(1.-ecc**2)\n",
    "    n1, n2 = ad*bd, a2*b2\n",
    "    return vis_ellipse_disk(semi_axis,ecc,theta,u,v)-n2/n1*vis_ellipse_disk(semi_axis-thick,ecc,theta,u,v)\n",
    "\n",
    "def vis_ellipse_gauss(semi_axis,thick,gausswidth,ecc,theta,u,v):\n",
    "    return vis_gauss(gausswidth,u,v)*vis_ellipse_thin(semi_axis,thick,ecc,theta,u,v)\n",
    "\n",
    "def vis_ellipse_high_contrast(semi_axis,ecc,theta,thick,con,u,v):\n",
    "    l2 = 1. / (con + 1)\n",
    "    l1 = 1 - l2\n",
    "    \n",
    "    vises = vis_ellipse_thin(semi_axis,ecc,theta,thick,u,v)\n",
    "    norm = vis_ellipse_thin(semi_axis,ecc,theta,thick,np.array([1e-5]),np.array([1e-5]))\n",
    "    vises = l2*(vises/norm) + l1\n",
    "    return vises\n",
    "\n",
    "def vis_ring_high_contrast(diam,con,u,v):\n",
    "    l2 = 1. / (con + 1)\n",
    "    l1 = 1 - l2\n",
    "    \n",
    "    vises = vis_ring(diam,u,v)\n",
    "    vises = l2*(vises) + l1\n",
    "    return vises"
   ]
  },
  {
   "cell_type": "code",
   "execution_count": 7,
   "metadata": {},
   "outputs": [
    {
     "data": {
      "text/plain": [
       "<matplotlib.image.AxesImage at 0x7fc6e185c0a0>"
      ]
     },
     "execution_count": 7,
     "metadata": {},
     "output_type": "execute_result"
    },
    {
     "data": {
      "image/png": "[encoded data removed]",
      "text/plain": [
       "<Figure size 648x360 with 2 Axes>"
      ]
     },
     "metadata": {
      "needs_background": "light"
     },
     "output_type": "display_data"
    }
   ],
   "source": [
    "fig, (ax1,ax2) = plt.subplots(1,2,figsize=(9,5))\n",
    "\n",
    "ellipse = make_ellipse(250,0.5,50,sz=800,pscale=66/10)\n",
    "ax1.imshow(ellipse)\n",
    "\n",
    "ax2.imshow(rebin(ellipse,10))"
   ]
  },
  {
   "cell_type": "markdown",
   "metadata": {},
   "source": [
    "Ok, let's make some visibility curves!"
   ]
  },
  {
   "cell_type": "code",
   "execution_count": 8,
   "metadata": {},
   "outputs": [],
   "source": [
    "wavel = 4.3e-6\n",
    "\n",
    "u, v = bls[:,0], bls[:,1]\n",
    "u, v = u/wavel, v/wavel\n",
    "utest = np.linspace(0.1,6.,100)/wavel"
   ]
  },
  {
   "cell_type": "code",
   "execution_count": 9,
   "metadata": {},
   "outputs": [
    {
     "data": {
      "text/plain": [
       "[<matplotlib.lines.Line2D at 0x7fc6e1255dc0>]"
      ]
     },
     "execution_count": 9,
     "metadata": {},
     "output_type": "execute_result"
    },
    {
     "data": {
      "image/png": "[encoded data removed]",
      "text/plain": [
       "<Figure size 432x288 with 1 Axes>"
      ]
     },
     "metadata": {
      "needs_background": "light"
     },
     "output_type": "display_data"
    }
   ],
   "source": [
    "diam = 150.\n",
    "vis = vis_ud(diam,utest,utest)**2\n",
    "plt.plot(utest*wavel,vis)\n"
   ]
  },
  {
   "cell_type": "code",
   "execution_count": 10,
   "metadata": {},
   "outputs": [
    {
     "ename": "NameError",
     "evalue": "name 'vis_annular' is not defined",
     "output_type": "error",
     "traceback": [
      "\u001b[0;31m---------------------------------------------------------------------------\u001b[0m",
      "\u001b[0;31mNameError\u001b[0m                                 Traceback (most recent call last)",
      "\u001b[0;32m/var/folders/q3/wlh9qxyn1nxdm7v7l30qryf00000gn/T/ipykernel_94918/1325856771.py\u001b[0m in \u001b[0;36m<module>\u001b[0;34m\u001b[0m\n\u001b[1;32m      6\u001b[0m \u001b[0mvis_thin\u001b[0m \u001b[0;34m=\u001b[0m \u001b[0mvis_thin\u001b[0m\u001b[0;34m**\u001b[0m\u001b[0;36m2\u001b[0m\u001b[0;34m\u001b[0m\u001b[0;34m\u001b[0m\u001b[0m\n\u001b[1;32m      7\u001b[0m \u001b[0;34m\u001b[0m\u001b[0m\n\u001b[0;32m----> 8\u001b[0;31m \u001b[0mvis_test\u001b[0m \u001b[0;34m=\u001b[0m \u001b[0mvis_annular\u001b[0m\u001b[0;34m(\u001b[0m\u001b[0mdiam\u001b[0m\u001b[0;34m,\u001b[0m\u001b[0;36m0.009\u001b[0m\u001b[0;34m,\u001b[0m\u001b[0mutest\u001b[0m\u001b[0;34m,\u001b[0m\u001b[0mutest\u001b[0m\u001b[0;34m)\u001b[0m\u001b[0;34m**\u001b[0m\u001b[0;36m2\u001b[0m\u001b[0;34m\u001b[0m\u001b[0;34m\u001b[0m\u001b[0m\n\u001b[0m\u001b[1;32m      9\u001b[0m \u001b[0;34m\u001b[0m\u001b[0m\n\u001b[1;32m     10\u001b[0m \u001b[0mvis_verythin\u001b[0m \u001b[0;34m=\u001b[0m \u001b[0mvis_ring\u001b[0m\u001b[0;34m(\u001b[0m\u001b[0mdiam\u001b[0m\u001b[0;34m,\u001b[0m\u001b[0mutest\u001b[0m\u001b[0;34m,\u001b[0m\u001b[0mutest\u001b[0m\u001b[0;34m)\u001b[0m\u001b[0;34m**\u001b[0m\u001b[0;36m2\u001b[0m\u001b[0;34m\u001b[0m\u001b[0;34m\u001b[0m\u001b[0m\n",
      "\u001b[0;31mNameError\u001b[0m: name 'vis_annular' is not defined"
     ]
    }
   ],
   "source": [
    "diam = 100.\n",
    "vis = vis_ud(diam,utest,utest)**2\n",
    "\n",
    "vis_thin = vis_ellipse_thin(diam*2,0,0,1,utest,utest)\n",
    "vis_thin /= vis_ellipse_thin(diam*2,0,0,1,np.array([1e-5]),np.array([1e-5]))\n",
    "vis_thin = vis_thin**2\n",
    "\n",
    "vis_test = vis_annular(diam,0.009,utest,utest)**2\n",
    "\n",
    "vis_verythin = vis_ring(diam,utest,utest)**2\n",
    "\n",
    "plt.plot(utest*wavel,vis,label='Filled Disk')\n",
    "plt.plot(utest*wavel,vis_thin,label='Thin Disk')\n",
    "# plt.plot(utest*wavel,vis_test**2,label='Thin Disk')\n",
    "plt.plot(utest*wavel,vis_verythin,label='Ring')\n",
    "\n",
    "\n",
    "plt.legend()"
   ]
  },
  {
   "cell_type": "code",
   "execution_count": null,
   "metadata": {},
   "outputs": [],
   "source": [
    "v2 = vis_ud(diam,u, v)**2\n",
    "vis = vis_ud(diam,utest,utest)**2\n",
    "plt.plot(utest*np.sqrt(2),vis)\n",
    "plt.plot(np.sqrt(u**2 + v**2),v2,'.')\n"
   ]
  },
  {
   "cell_type": "code",
   "execution_count": null,
   "metadata": {},
   "outputs": [],
   "source": [
    "vis_ellipse_disk(80,0.5,45,u,v)"
   ]
  },
  {
   "cell_type": "code",
   "execution_count": null,
   "metadata": {},
   "outputs": [],
   "source": [
    "v2 = vis_ellipse_disk(80,0.5,45,u,v)**2\n",
    "vis = vis_ellipse_disk(80,0.5,45,utest,utest)**2\n",
    "\n",
    "plt.plot(utest*np.sqrt(2),vis)\n",
    "plt.plot(np.sqrt(u**2 + v**2),v2,'.')\n"
   ]
  },
  {
   "cell_type": "markdown",
   "metadata": {},
   "source": [
    "Now let's go to high contrast!"
   ]
  },
  {
   "cell_type": "code",
   "execution_count": null,
   "metadata": {},
   "outputs": [],
   "source": [
    "fig = plt.figure(figsize=(8.0,5.0))\n",
    "\n",
    "utest = np.linspace(0,np.sqrt(u**2+v**2).max()*1.2,1000)\n",
    "\n",
    "con = 10\n",
    "width = 400e0\n",
    "\n",
    "v2 = vis_ellipse_high_contrast(width,0.5,45.,1.,con,u,v)#**2\n",
    "vis = vis_ellipse_high_contrast(width,0.5,45.,1.,con,utest,utest)#**2\n",
    "\n",
    "plt.plot(utest*np.sqrt(2)*wavel,vis)\n",
    "plt.errorbar(np.sqrt(u**2 + v**2)*wavel,v2,yerr=0.002,\n",
    "             linestyle='none',fmt='.',capsize=10,markersize=10,\n",
    "             label='JWST AMI Baselines')\n",
    "\n",
    "plt.xlabel('Baseline (m)')\n",
    "plt.ylabel(r'Calibrated $V^2$')\n",
    "plt.xlim(utest.min()*wavel,utest.max()*wavel)\n",
    "\n",
    "plt.legend()\n",
    "\n",
    "plt.title('1%% Flux %.0f mas Thin Ring' % (width*2), y=1.02)"
   ]
  },
  {
   "cell_type": "code",
   "execution_count": null,
   "metadata": {},
   "outputs": [],
   "source": [
    "fig = plt.figure(figsize=(8.0,5.0))\n",
    "\n",
    "utest = np.linspace(0.05,np.sqrt(u**2+v**2).max()*1.2,1000)\n",
    "\n",
    "con = 100.\n",
    "width = 200.\n",
    "\n",
    "v2 = vis_ellipse_high_contrast(width,0.5,45.,1.,con,u,v)**2\n",
    "vis = vis_ellipse_high_contrast(width,0.5,45.,1.,con,utest,utest)**2\n",
    "\n",
    "plt.plot(utest*np.sqrt(2)*wavel,vis)\n",
    "plt.errorbar(np.sqrt(u**2 + v**2)*wavel,v2,yerr=0.002,\n",
    "             linestyle='none',fmt='.',capsize=10,markersize=10,\n",
    "             label='JWST AMI Baselines')\n",
    "\n",
    "plt.xlabel('Baseline (m)')\n",
    "plt.ylabel(r'Calibrated $V^2$')\n",
    "plt.xlim(utest.min()*wavel,utest.max()*wavel)\n",
    "\n",
    "plt.legend()\n",
    "\n",
    "plt.title('1%% Flux %.0f mas Thin Ring' % (width*2), y=1.02)"
   ]
  },
  {
   "cell_type": "markdown",
   "metadata": {},
   "source": [
    "Christ, this isn't promising! We need to look at much bigger structures to make this competitive."
   ]
  },
  {
   "cell_type": "code",
   "execution_count": null,
   "metadata": {},
   "outputs": [],
   "source": [
    "fig = plt.figure(figsize=(8.0,5.0))\n",
    "\n",
    "utest = np.linspace(0.05,np.sqrt(u**2+v**2).max()*1.2,1000)\n",
    "\n",
    "con = 50\n",
    "width = 100.\n",
    "\n",
    "v2 = vis_ring_high_contrast(width,con,u,v)**2\n",
    "vis = vis_ring_high_contrast(width,con,utest,utest)**2\n",
    "\n",
    "plt.plot(utest*np.sqrt(2)*wavel,vis)\n",
    "plt.errorbar(np.sqrt(u**2 + v**2)*wavel,v2,yerr=0.002,\n",
    "             linestyle='none',fmt='.',capsize=10,markersize=10,\n",
    "             label='JWST AMI Baselines')\n",
    "\n",
    "plt.xlabel('Baseline (m)')\n",
    "plt.ylabel(r'Calibrated $V^2$')\n",
    "plt.xlim(utest.min()*wavel,utest.max()*wavel)\n",
    "\n",
    "plt.legend()\n",
    "\n",
    "plt.title('%.1f%% Flux %.0f mas Thin Ring' % (1./con*100,width), y=1.02)"
   ]
  },
  {
   "cell_type": "code",
   "execution_count": null,
   "metadata": {},
   "outputs": [],
   "source": [
    "vis = vis_ring_high_contrast(width,con,utest,utest)**2\n",
    "vis_test = vis_ellipse_high_contrast(width,0.0,0,1.,con,utest,utest)**2\n",
    "plt.plot(utest*np.sqrt(2)*wavel,vis)\n",
    "plt.plot(utest*np.sqrt(2)*wavel,vis_test)\n"
   ]
  },
  {
   "cell_type": "code",
   "execution_count": null,
   "metadata": {},
   "outputs": [],
   "source": []
  }
 ],
 "metadata": {
  "kernelspec": {
   "display_name": "Python [conda env:jax]",
   "language": "python",
   "name": "conda-env-jax-py"
  },
  "language_info": {
   "codemirror_mode": {
    "name": "ipython",
    "version": 3
   },
   "file_extension": ".py",
   "mimetype": "text/x-python",
   "name": "python",
   "nbconvert_exporter": "python",
   "pygments_lexer": "ipython3",
   "version": "3.9.7"
  }
 },
 "nbformat": 4,
 "nbformat_minor": 5
}
